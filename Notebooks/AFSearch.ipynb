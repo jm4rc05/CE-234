{
 "cells": [
  {
   "cell_type": "markdown",
   "id": "0bfe094f-c252-4bd0-af4b-dd5c6a007bef",
   "metadata": {},
   "source": [
    "# Automato finito para busca de padrões"
   ]
  },
  {
   "cell_type": "code",
   "execution_count": 1,
   "id": "e85eed14-6cdf-4cd1-9f96-0275d0366097",
   "metadata": {},
   "outputs": [
    {
     "name": "stdout",
     "output_type": "stream",
     "text": [
      "Pattern found at index: 0\n",
      "Pattern found at index: 9\n",
      "Pattern found at index: 13\n"
     ]
    }
   ],
   "source": [
    "sigma = ['A', 'B', 'C', 'D']\n",
    "\n",
    "# Construir a tabela de próximos estados do automato finito\n",
    "# ao ler 'l'-ésimo caracter do alfabeto 'sigma'\n",
    "# após ler o 'p'-ésimo caracter de 'P'\n",
    "def state(P, p, l):\n",
    "\n",
    "    m = len(P) # Comprimento de 'P'\n",
    "    \n",
    "    # Se o 'p'-ésimo caracter de 'P' estiver dentro do comprimento de 'P', e...\n",
    "    # o 'l'-ésimo caracter do alfabeto 'sigma' for igual ao caracter lido em 'P', então...\n",
    "    # retornar como estado a posição de 'p' mais um\n",
    "    if p < m and l == sigma.index(P[p]):\n",
    "        return p + 1\n",
    "\n",
    "    i = 0\n",
    "\n",
    "    # Lendo do 'p'-ésimo caracter para trás...\n",
    "    for ns in range(p, 0, -1):\n",
    "        # Se como sufixo corresponder ao 'l'-ésimo caracter do alfabeto sigma...\n",
    "        if sigma.index(P[ns - 1]) == l:\n",
    "            # Enquanto???\n",
    "            while(i < ns - 1):\n",
    "                if P[i] != P[p - ns + 1 + i]:\n",
    "                    break\n",
    "                i += 1\n",
    "            if i == ns - 1:\n",
    "                return ns\n",
    "    \n",
    "    return 0\n",
    "\n",
    "def AFConstruct(P):\n",
    "\n",
    "    m = len(P)\n",
    "        \n",
    "    AF = [[0 for i in range(len(sigma))] for _ in range(m + 1)]\n",
    "\n",
    "    # Para cada 'p'-ésimo caracter de 'P'\n",
    "    for p in range(m + 1):\n",
    "        # Para cada 'l'-ésimo caracter do alfabeto\n",
    "        for l in range(len(sigma)):\n",
    "            # Construir a tabela de próximos estados do automato finito\n",
    "            # ao ler 'l'-ésimo caracter do alfabeto 'sigma'\n",
    "            # após ler o 'p'-ésimo caracter de 'P'\n",
    "            AF[p][l] = state(P, p, l)\n",
    "\n",
    "    return AF\n",
    "\n",
    "def AFMatch(P, T):\n",
    "\n",
    "    m = len(P)\n",
    "    n = len(T)\n",
    "    AF = AFConstruct(P)\n",
    "\n",
    "    s = 0\n",
    "    for i in range(n):\n",
    "        s = AF[s][sigma.index(T[i])]\n",
    "        if s == m:\n",
    "            print(\"Pattern found at index: {}\".format(i - m + 1))\n",
    "\n",
    "def main():\n",
    "    T = \"AABAACAADAABAAABAA\"\n",
    "    P = \"AABA\"\n",
    "    AFMatch(P, T)\n",
    "\n",
    "if __name__ == '__main__':\n",
    "    main()"
   ]
  },
  {
   "cell_type": "markdown",
   "id": "f5eb1143-4bc2-486e-bf68-46c9be853b96",
   "metadata": {},
   "source": [
    "> Fim"
   ]
  }
 ],
 "metadata": {
  "kernelspec": {
   "display_name": "Python 3 (ipykernel)",
   "language": "python",
   "name": "python3"
  },
  "language_info": {
   "codemirror_mode": {
    "name": "ipython",
    "version": 3
   },
   "file_extension": ".py",
   "mimetype": "text/x-python",
   "name": "python",
   "nbconvert_exporter": "python",
   "pygments_lexer": "ipython3",
   "version": "3.8.2"
  }
 },
 "nbformat": 4,
 "nbformat_minor": 5
}
