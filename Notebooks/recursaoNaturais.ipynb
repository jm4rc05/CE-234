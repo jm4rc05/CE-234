{
 "cells": [
  {
   "cell_type": "markdown",
   "id": "fb29384c-6c75-40e7-adde-2676fd2354c8",
   "metadata": {},
   "source": [
    "### Imprimir\n",
    "\n",
    "#### Crescente\n",
    "\n",
    "$$\n",
    "    1, 2, \\cdots, n, n - 1\n",
    "$$\n",
    "\n",
    "#### Decrescente\n",
    "\n",
    "$$\n",
    "    n, n - 1, \\cdots, 2, 1\n",
    "$$"
   ]
  },
  {
   "cell_type": "code",
   "execution_count": 1,
   "id": "aa709c99-2c42-4462-8eff-f3bc9ad4c9d3",
   "metadata": {},
   "outputs": [
    {
     "name": "stdout",
     "output_type": "stream",
     "text": [
      "1\n",
      "2\n",
      "3\n",
      "4\n",
      "5\n"
     ]
    }
   ],
   "source": [
    "def naturais(n, crescente = True):\n",
    "    if (n == 1):\n",
    "        print (n)   \n",
    "    else:\n",
    "        if not crescente:\n",
    "            print (n)\n",
    "        naturais (n - 1)\n",
    "        if crescente:\n",
    "            print (n)\n",
    "            \n",
    "naturais (5)"
   ]
  },
  {
   "cell_type": "markdown",
   "id": "7e71724f-90ce-4161-9991-4e8e8908104b",
   "metadata": {},
   "source": [
    "> End"
   ]
  }
 ],
 "metadata": {
  "kernelspec": {
   "display_name": "Python 3 (ipykernel)",
   "language": "python",
   "name": "python3"
  },
  "language_info": {
   "codemirror_mode": {
    "name": "ipython",
    "version": 3
   },
   "file_extension": ".py",
   "mimetype": "text/x-python",
   "name": "python",
   "nbconvert_exporter": "python",
   "pygments_lexer": "ipython3",
   "version": "3.8.2"
  }
 },
 "nbformat": 4,
 "nbformat_minor": 5
}
