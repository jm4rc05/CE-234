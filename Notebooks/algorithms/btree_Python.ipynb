{
 "cells": [
  {
   "cell_type": "code",
   "execution_count": 1,
   "id": "347ee49f-0024-46d6-b7b8-18feece27da9",
   "metadata": {},
   "outputs": [],
   "source": [
    "class node:\n",
    "    def __init__(self, valor):\n",
    "        self.valor = valor \n",
    "        self.esq = self.dir = None"
   ]
  },
  {
   "cell_type": "code",
   "execution_count": 2,
   "id": "d8948aaf-d3f2-467e-ab6b-f6e3e042dcae",
   "metadata": {},
   "outputs": [
    {
     "name": "stdout",
     "output_type": "stream",
     "text": [
      "\n",
      "\n",
      "Pre ordem esquerda\n",
      "13 10 2 29 12 25 20 31 \n",
      "\n",
      "Pre ordem direita\n",
      "13 25 31 20 10 12 2 29 "
     ]
    }
   ],
   "source": [
    "def insert_level(a, i, n):\n",
    "    raiz = None\n",
    "    if i < n:\n",
    "        raiz = node(a[i])\n",
    "        raiz.esq = insert_level(a, 2 * i + 1, n)\n",
    "        raiz.dir = insert_level(a, 2 * i + 2, n)\n",
    "    \n",
    "    return raiz\n",
    "\n",
    "def pre_ordem_esquerda(raiz):\n",
    "    if raiz != None:\n",
    "        print(raiz.valor, end = \" \")\n",
    "        pre_ordem_esquerda(raiz.esq)\n",
    "        pre_ordem_esquerda(raiz.dir)\n",
    "\n",
    "def pre_ordem_direita(raiz):\n",
    "    if raiz != None:\n",
    "        print(raiz.valor, end = \" \")\n",
    "        pre_ordem_direita(raiz.dir)\n",
    "        pre_ordem_direita(raiz.esq)\n",
    "    \n",
    "x = insert_level(a := [13, 10, 25, 2, 12, 20, 31, 29], 0, len(a))\n",
    "\n",
    "print(\"\\n\\nPre ordem esquerda\")\n",
    "pre_ordem_esquerda(x)\n",
    "\n",
    "print(\"\\n\\nPre ordem direita\")\n",
    "pre_ordem_direita(x)"
   ]
  },
  {
   "cell_type": "markdown",
   "id": "5fd5ff21-f369-4117-980e-e5e3c10fe535",
   "metadata": {},
   "source": [
    "> End"
   ]
  }
 ],
 "metadata": {
  "kernelspec": {
   "display_name": "Python 3 (ipykernel)",
   "language": "python",
   "name": "python3"
  },
  "language_info": {
   "codemirror_mode": {
    "name": "ipython",
    "version": 3
   },
   "file_extension": ".py",
   "mimetype": "text/x-python",
   "name": "python",
   "nbconvert_exporter": "python",
   "pygments_lexer": "ipython3",
   "version": "3.10.6"
  }
 },
 "nbformat": 4,
 "nbformat_minor": 5
}
