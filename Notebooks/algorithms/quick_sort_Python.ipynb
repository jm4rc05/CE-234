{
 "cells": [
  {
   "cell_type": "code",
   "execution_count": 1,
   "id": "abc9881e-bf01-4878-9d7b-8e3e8b9f7526",
   "metadata": {},
   "outputs": [
    {
     "name": "stdout",
     "output_type": "stream",
     "text": [
      "sorted asc: [1, 2, 3, 4, 7, 8, 10, 14, 9, 16]\n",
      "\n"
     ]
    }
   ],
   "source": [
    "def quick_sort(v, l, r):\n",
    "    if len(v) == 1:\n",
    "        return v\n",
    "    if l < r:\n",
    "        p = partition(v, l, r)\n",
    "        quick_sort(v, l, p - 1)\n",
    "        quick_sort(v, p + 1, r)\n",
    "        \n",
    "def partition(v, l, r):\n",
    "    p = v[r]\n",
    "    j = l\n",
    "    for i in range(l, r):\n",
    "        if v[i] <= p:\n",
    "            v[i], v[j] = v[j], v[i]\n",
    "            j += 1\n",
    "    \n",
    "    v[j], v[r] = v[r], v[j]\n",
    "    \n",
    "    return r\n",
    "\n",
    "\n",
    "quick_sort(x := [4, 1, 3, 2, 16, 9, 10, 14, 8, 7], 0, len(x) - 1)\n",
    "print(f'sorted asc: {x}\\n')"
   ]
  }
 ],
 "metadata": {
  "kernelspec": {
   "display_name": "Python 3.9",
   "language": "python",
   "name": "python39"
  },
  "language_info": {
   "codemirror_mode": {
    "name": "ipython",
    "version": 3
   },
   "file_extension": ".py",
   "mimetype": "text/x-python",
   "name": "python",
   "nbconvert_exporter": "python",
   "pygments_lexer": "ipython3",
   "version": "3.9.14"
  }
 },
 "nbformat": 4,
 "nbformat_minor": 5
}
