{
 "cells": [
  {
   "cell_type": "code",
   "execution_count": 1,
   "id": "a16ca54b-2048-476e-a89f-36f162816e61",
   "metadata": {},
   "outputs": [
    {
     "name": "stdout",
     "output_type": "stream",
     "text": [
      "[6, 7, 12, 18, 42, 44, 55, 94]\n"
     ]
    }
   ],
   "source": [
    "def bubble_sort(v):\n",
    "    n = len(v) - 1\n",
    "\n",
    "    for i in range(n):\n",
    "        for j in range(n - i):\n",
    "            if v[j] > v[j + 1]:\n",
    "                v[j], v[j + 1] = v[j + 1], v[j]\n",
    "                \n",
    "    return v\n",
    "\n",
    "print(bubble_sort([44, 55, 12, 42, 94, 18, 6, 7]))"
   ]
  },
  {
   "cell_type": "markdown",
   "id": "ba71fc53-824a-4879-8910-5586358af998",
   "metadata": {},
   "source": [
    "> End"
   ]
  }
 ],
 "metadata": {
  "kernelspec": {
   "display_name": "Python 3.9",
   "language": "python",
   "name": "python39"
  },
  "language_info": {
   "codemirror_mode": {
    "name": "ipython",
    "version": 3
   },
   "file_extension": ".py",
   "mimetype": "text/x-python",
   "name": "python",
   "nbconvert_exporter": "python",
   "pygments_lexer": "ipython3",
   "version": "3.9.14"
  }
 },
 "nbformat": 4,
 "nbformat_minor": 5
}
