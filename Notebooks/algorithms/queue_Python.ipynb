{
 "cells": [
  {
   "cell_type": "code",
   "execution_count": 1,
   "id": "b47e8cb8-5265-46d1-8e95-88952a9d6fb2",
   "metadata": {},
   "outputs": [
    {
     "name": "stdout",
     "output_type": "stream",
     "text": [
      "(4): 0\n",
      "(3): 0\n",
      "(2): 0\n",
      "(1): 0\n",
      "(0): 10\n",
      "\n",
      "\n",
      "(4): 0\n",
      "(3): 0\n",
      "(2): 0\n",
      "(1): 5\n",
      "(0): 10\n",
      "\n",
      "\n",
      "(4): 0\n",
      "(3): 0\n",
      "(2): 0\n",
      "(1): 5\n",
      "(0): 0\n",
      "\n",
      "\n",
      "(4): 0\n",
      "(3): 0\n",
      "(2): 15\n",
      "(1): 5\n",
      "(0): 0\n",
      "\n",
      "\n",
      "(4): 0\n",
      "(3): 7\n",
      "(2): 15\n",
      "(1): 5\n",
      "(0): 0\n"
     ]
    }
   ],
   "source": [
    "LIMIT = 5\n",
    "_fila = [0] * LIMIT\n",
    "_frente = 0\n",
    "_retaguarda = 0\n",
    "    \n",
    "def size():\n",
    "    return _retaguarda\n",
    "\n",
    "def enqueue(v):\n",
    "    global _retaguarda\n",
    "    _fila[_retaguarda] = v\n",
    "    _retaguarda += 1\n",
    "\n",
    "def dequeue():\n",
    "    global _retaguarda, _frente\n",
    "    _fila[_frente] = 0\n",
    "    _frente += 1\n",
    "\n",
    "def isEmpty():\n",
    "    return _retaguarda == 0\n",
    "\n",
    "def first():\n",
    "    return _fila[_frente]\n",
    "\n",
    "enqueue(10)\n",
    "for i in reversed(range(LIMIT)):\n",
    "    print(f'({i}): {_fila[i]}')\n",
    "    \n",
    "print('\\n')\n",
    "\n",
    "enqueue(5)\n",
    "for i in reversed(range(LIMIT)):\n",
    "    print(f'({i}): {_fila[i]}')\n",
    "    \n",
    "print('\\n')\n",
    "\n",
    "dequeue()\n",
    "for i in reversed(range(LIMIT)):\n",
    "    print(f'({i}): {_fila[i]}')\n",
    "    \n",
    "print('\\n')\n",
    "\n",
    "enqueue(15)\n",
    "for i in reversed(range(LIMIT)):\n",
    "    print(f'({i}): {_fila[i]}')\n",
    "    \n",
    "print('\\n')\n",
    "\n",
    "enqueue(7)\n",
    "for i in reversed(range(LIMIT)):\n",
    "    print(f'({i}): {_fila[i]}')"
   ]
  },
  {
   "cell_type": "markdown",
   "id": "290b192e-8254-4d7f-874e-27bca2901833",
   "metadata": {},
   "source": [
    "> End"
   ]
  }
 ],
 "metadata": {
  "kernelspec": {
   "display_name": "Python 3.9",
   "language": "python",
   "name": "python39"
  },
  "language_info": {
   "codemirror_mode": {
    "name": "ipython",
    "version": 3
   },
   "file_extension": ".py",
   "mimetype": "text/x-python",
   "name": "python",
   "nbconvert_exporter": "python",
   "pygments_lexer": "ipython3",
   "version": "3.9.14"
  }
 },
 "nbformat": 4,
 "nbformat_minor": 5
}
