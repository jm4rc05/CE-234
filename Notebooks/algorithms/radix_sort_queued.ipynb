{
 "cells": [
  {
   "cell_type": "code",
   "execution_count": 1,
   "id": "8d7d63f2-8afd-456a-80da-c884950e4a69",
   "metadata": {},
   "outputs": [],
   "source": [
    "class queue:\n",
    "LIMIT = 5\n",
    "_fila = [0] * LIMIT\n",
    "_frente = 0\n",
    "_retaguarda = 0\n",
    "\n",
    "def size():\n",
    "    return _retaguarda\n",
    "\n",
    "def enqueue(v):\n",
    "    global _retaguarda\n",
    "    _fila[_retaguarda] = v\n",
    "    _retaguarda += 1\n",
    "\n",
    "def dequeue():\n",
    "    global _retaguarda, _frente\n",
    "    _fila[_frente] = 0\n",
    "    _frente += 1\n",
    "\n",
    "def isEmpty():\n",
    "    return _retaguarda == 0\n",
    "\n",
    "def first():\n",
    "    return _fila[_frente]"
   ]
  },
  {
   "cell_type": "code",
   "execution_count": 1,
   "id": "adc5402d-f592-4786-9793-347f49fd4ad9",
   "metadata": {},
   "outputs": [
    {
     "name": "stdout",
     "output_type": "stream",
     "text": [
      "[6, 7, 12, 18, 42, 44, 55, 94]\n"
     ]
    }
   ],
   "source": [
    "def counting_sort(v, exp1):\n",
    "    \n",
    "    n = len(v)\n",
    "   \n",
    "    output = [0] * (n)\n",
    "   \n",
    "    count = [0] * (10)\n",
    "   \n",
    "    for i in range(0, n):\n",
    "        index = (v[i] / exp1)\n",
    "        count[int((index) % 10)] += 1\n",
    "   \n",
    "    for i in range(1, 10):\n",
    "        count[i] += count[i - 1]\n",
    "   \n",
    "    i = n-1\n",
    "    while i>=0:\n",
    "        index = (v[i] / exp1)\n",
    "        output[count[int((index) % 10)] - 1] = v[i]\n",
    "        count[int((index) % 10)] -= 1\n",
    "        i -= 1\n",
    "   \n",
    "    i = 0\n",
    "    for i in range(0,len(v)):\n",
    "        v[i] = output[i]\n",
    "    \n",
    "    return v\n",
    "\n",
    "def radix_sort(v):\n",
    " \n",
    "    max1 = max(v)\n",
    " \n",
    "    exp = 1\n",
    "    while max1 / exp > 0:\n",
    "        counting_sort(v, exp)\n",
    "        exp *= 10\n",
    "        \n",
    "    return v\n",
    "\n",
    "print(radix_sort([44, 55, 12, 42, 94, 18, 6, 7]))"
   ]
  }
 ],
 "metadata": {
  "kernelspec": {
   "display_name": "Python 3.9",
   "language": "python",
   "name": "python39"
  },
  "language_info": {
   "codemirror_mode": {
    "name": "ipython",
    "version": 3
   },
   "file_extension": ".py",
   "mimetype": "text/x-python",
   "name": "python",
   "nbconvert_exporter": "python",
   "pygments_lexer": "ipython3",
   "version": "3.9.14"
  }
 },
 "nbformat": 4,
 "nbformat_minor": 5
}
