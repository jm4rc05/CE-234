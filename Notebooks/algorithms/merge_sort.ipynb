{
 "cells": [
  {
   "cell_type": "markdown",
   "id": "c85e2dce-e67a-4826-952e-3963649f4e78",
   "metadata": {},
   "source": [
    "O Merge Sort possui duas recursões, uma para cada metade, mais um merge:\n",
    "\n",
    "$T(n) = 2T\\left(\\frac{n}{2}\\right)+\\Theta(n)$\n",
    "\n",
    "Mas porque supondo $n = 2^k$ resulta em:\n",
    "\n",
    "$T(n) = 2\\left(2T\\left(\\frac{n}{2^k}\\right)+\\Theta\\left(\\frac{n}{2}\\right)\\right)+\\Theta(n)$?"
   ]
  },
  {
   "cell_type": "code",
   "execution_count": 1,
   "id": "7c3bd28c-29c3-4b6c-be56-b7d07effee11",
   "metadata": {
    "tags": []
   },
   "outputs": [
    {
     "name": "stdout",
     "output_type": "stream",
     "text": [
      "[6, 7, 12, 18, 42, 44, 55, 94]\n"
     ]
    }
   ],
   "source": [
    "def merge_sort(v, l, r):\n",
    "\n",
    "    def merge(v, l, m, r):\n",
    "        n1 = m - l + 1\n",
    "        n2 = r - m\n",
    "\n",
    "        L = [0] * (n1)\n",
    "        R = [0] * (n2)\n",
    "\n",
    "        for i in range(0, n1):\n",
    "            L[i] = v[l + i]\n",
    "\n",
    "        for j in range(0, n2):\n",
    "            R[j] = v[m + 1 + j]\n",
    "\n",
    "        i = 0\n",
    "        j = 0\n",
    "        k = l\n",
    "\n",
    "        while i < n1 and j < n2:\n",
    "            if L[i] <= R[j]:\n",
    "                v[k] = L[i]\n",
    "                i += 1\n",
    "            else:\n",
    "                v[k] = R[j]\n",
    "                j += 1\n",
    "            k += 1\n",
    "\n",
    "        while i < n1:\n",
    "            v[k] = L[i]\n",
    "            i += 1\n",
    "            k += 1\n",
    "\n",
    "        while j < n2:\n",
    "            v[k] = R[j]\n",
    "            j += 1\n",
    "            k += 1\n",
    "    \n",
    "    if l < r:\n",
    "        m = l + (r - l) // 2\n",
    " \n",
    "        merge_sort(v, l, m)\n",
    "        merge_sort(v, m + 1, r)\n",
    "        merge(v, l, m, r)\n",
    "        \n",
    "    return v\n",
    "\n",
    "x = [44, 55, 12, 42, 94, 18, 6, 7]\n",
    "print(merge_sort(x, 0, len(x) - 1))"
   ]
  },
  {
   "cell_type": "code",
   "execution_count": null,
   "id": "d3978af4-0234-4886-a54d-89b52b1ff5a4",
   "metadata": {},
   "outputs": [],
   "source": []
  }
 ],
 "metadata": {
  "kernelspec": {
   "display_name": "Python 3.9",
   "language": "python",
   "name": "python39"
  },
  "language_info": {
   "codemirror_mode": {
    "name": "ipython",
    "version": 3
   },
   "file_extension": ".py",
   "mimetype": "text/x-python",
   "name": "python",
   "nbconvert_exporter": "python",
   "pygments_lexer": "ipython3",
   "version": "3.9.14"
  }
 },
 "nbformat": 4,
 "nbformat_minor": 5
}
