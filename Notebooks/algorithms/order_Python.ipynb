{
 "cells": [
  {
   "cell_type": "code",
   "execution_count": null,
   "id": "992f3cd6-8c8e-41b5-86f2-d8087d222b6b",
   "metadata": {},
   "outputs": [],
   "source": [
    "arr = [13, 10, 25, 2, 12, 20, 31, 29]\n",
    "\n",
    "def f_e(i):\n",
    "    return 2 * i + 1\n",
    "\n",
    "def f_d(i):\n",
    "    return 2 * i + 2\n",
    "\n",
    "def p(i):\n",
    "    return (i - 1) // 2\n",
    "\n",
    "def RED():\n",
    "    "
   ]
  }
 ],
 "metadata": {
  "kernelspec": {
   "display_name": "Python 3.9",
   "language": "python",
   "name": "python39"
  },
  "language_info": {
   "codemirror_mode": {
    "name": "ipython",
    "version": 3
   },
   "file_extension": ".py",
   "mimetype": "text/x-python",
   "name": "python",
   "nbconvert_exporter": "python",
   "pygments_lexer": "ipython3",
   "version": "3.9.14"
  }
 },
 "nbformat": 4,
 "nbformat_minor": 5
}
