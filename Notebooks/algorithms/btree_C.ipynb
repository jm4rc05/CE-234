{
 "cells": [
  {
   "cell_type": "code",
   "execution_count": 1,
   "id": "46ef7d1c-fa70-4f4b-a27d-622bcd16a15d",
   "metadata": {},
   "outputs": [],
   "source": [
    "#include <iostream>\n",
    "#include <cstdlib>\n",
    "\n",
    "using namespace std;"
   ]
  },
  {
   "cell_type": "code",
   "execution_count": 2,
   "id": "6962a96b-5a9d-4324-9e11-c95b2db19e59",
   "metadata": {},
   "outputs": [
    {
     "name": "stdout",
     "output_type": "stream",
     "text": [
      "6 4 6 2 5 1 6 3 6 "
     ]
    }
   ],
   "source": [
    "namespace bt {\n",
    "\n",
    "    struct Node {\n",
    "        int data;\n",
    "        Node* left, * right;\n",
    "    };\n",
    "\n",
    "    Node* newNode(int data) {\n",
    "\n",
    "        Node* node = (Node*)malloc(sizeof(Node));\n",
    "        node->data = data;\n",
    "        node->left = node->right = NULL;\n",
    "\n",
    "        return (node);\n",
    "\n",
    "    }\n",
    "\n",
    "    Node* insertLevelOrder(int arr[], int i, int n) {\n",
    "\n",
    "        Node *root = nullptr;\n",
    "\n",
    "        if (i < n) {\n",
    "            root = newNode(arr[i]);\n",
    "\n",
    "            root->left = insertLevelOrder(arr, 2 * i + 1, n);\n",
    "\n",
    "            root->right = insertLevelOrder(arr, 2 * i + 2, n);\n",
    "        }\n",
    "\n",
    "        return root;\n",
    "\n",
    "    }\n",
    "\n",
    "    void inOrder(Node* root) {\n",
    "\n",
    "        if (root != NULL) {\n",
    "            inOrder(root->left);\n",
    "            cout << root->data << \" \";\n",
    "            inOrder(root->right);\n",
    "        }\n",
    "\n",
    "    }\n",
    "    \n",
    "    int run() {\n",
    "\n",
    "        int arr[] = { 1, 2, 3, 4, 5, 6, 6, 6, 6 };\n",
    "        int n = sizeof(arr)/sizeof(arr[0]);\n",
    "        Node* root = insertLevelOrder(arr, 0, n);\n",
    "        inOrder(root);\n",
    "        \n",
    "        return 0;\n",
    "\n",
    "    }\n",
    "    \n",
    "}\n",
    "\n",
    "int result = bt::run();"
   ]
  }
 ],
 "metadata": {
  "kernelspec": {
   "display_name": "C++14",
   "language": "C++14",
   "name": "xcpp14"
  },
  "language_info": {
   "codemirror_mode": "text/x-c++src",
   "file_extension": ".cpp",
   "mimetype": "text/x-c++src",
   "name": "c++",
   "version": "14"
  }
 },
 "nbformat": 4,
 "nbformat_minor": 5
}
