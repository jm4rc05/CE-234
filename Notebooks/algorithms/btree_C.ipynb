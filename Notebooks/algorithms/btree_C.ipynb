{
 "cells": [
  {
   "cell_type": "code",
   "execution_count": 1,
   "id": "46ef7d1c-fa70-4f4b-a27d-622bcd16a15d",
   "metadata": {},
   "outputs": [],
   "source": [
    "#include <iostream>\n",
    "#include <cstdlib>\n",
    "#include <cmath>\n",
    "\n",
    "using namespace std;"
   ]
  },
  {
   "cell_type": "code",
   "execution_count": 2,
   "id": "6962a96b-5a9d-4324-9e11-c95b2db19e59",
   "metadata": {},
   "outputs": [
    {
     "name": "stdout",
     "output_type": "stream",
     "text": [
      "13 10 2 12 25 20 31 29 \n",
      "13 10 2 12 25 20 31 29 \n",
      "13 20 29 31 10 25 2 12 \n"
     ]
    }
   ],
   "source": [
    "namespace bt {\n",
    "    struct No {\n",
    "        int valor;\n",
    "        No* esquerdo, * direito;\n",
    "    };\n",
    "\n",
    "    int filho_esquerdo(int i) {\n",
    "        return 2 * i + 1;\n",
    "    }\n",
    "    \n",
    "    int filho_direito(int i) {\n",
    "        return 2 * i + 2;\n",
    "    }\n",
    "    \n",
    "    int pai(int i) {\n",
    "        return floor((i - 1) / 2);\n",
    "    }\n",
    "    \n",
    "    No* novo_no(int valor) {\n",
    "        No* no = (No*)malloc(sizeof(No));\n",
    "        no->valor = valor;\n",
    "        no->esquerdo = no->direito = NULL;\n",
    "        return no;\n",
    "    }\n",
    "\n",
    "    No* insere_nivel(int arr[], int i, int n) {\n",
    "        No *raiz = nullptr;\n",
    "        if (i < n) {\n",
    "            raiz = novo_no(arr[i]);\n",
    "            raiz->esquerdo = insere_nivel(arr, filho_esquerdo(i), n);\n",
    "            raiz->direito = insere_nivel(arr, filho_direito(i), n);\n",
    "        }\n",
    "        return raiz;\n",
    "    }\n",
    "\n",
    "    void pre_ordem_esquerdo(No* raiz) {\n",
    "        if (raiz != NULL) {\n",
    "            cout << raiz-> valor << \" \";\n",
    "            pre_ordem_esquerdo(raiz->esquerdo);\n",
    "            pre_ordem_esquerdo(raiz->direito);\n",
    "        }\n",
    "    }\n",
    "\n",
    "    void pre_ordem_direito(No* raiz) {\n",
    "        if (raiz != NULL) {\n",
    "            cout << raiz->valor << \" \";\n",
    "            pre_ordem_direito(raiz->direito);\n",
    "            pre_ordem_direito(raiz->esquerdo);\n",
    "        }\n",
    "    }\n",
    "    \n",
    "    void lista(No* raiz) {\n",
    "        if (raiz != NULL) {\n",
    "            cout << raiz->valor << \" \";\n",
    "            lista(raiz->esquerdo);\n",
    "            lista(raiz->direito);\n",
    "        }\n",
    "    }\n",
    "    \n",
    "    int run() {\n",
    "        int a[] = { 13, 10, 20, 2, 25, 31, 29, 12 };\n",
    "        No* x = insere_nivel(a, 0, sizeof(a) / sizeof(a[0]));\n",
    "        lista(x); cout << endl;\n",
    "        pre_ordem_esquerdo(x); cout << endl;\n",
    "        pre_ordem_direito(x); cout << endl;\n",
    "        return 0;\n",
    "    }\n",
    "}\n",
    "int rc = bt::run();"
   ]
  },
  {
   "cell_type": "code",
   "execution_count": null,
   "id": "351bc63a-e02d-41a8-b04d-12fbce876e11",
   "metadata": {},
   "outputs": [],
   "source": []
  }
 ],
 "metadata": {
  "kernelspec": {
   "display_name": "C++14",
   "language": "C++14",
   "name": "xcpp14"
  },
  "language_info": {
   "codemirror_mode": "text/x-c++src",
   "file_extension": ".cpp",
   "mimetype": "text/x-c++src",
   "name": "c++",
   "version": "14"
  }
 },
 "nbformat": 4,
 "nbformat_minor": 5
}
