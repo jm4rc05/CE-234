{
 "cells": [
  {
   "cell_type": "code",
   "execution_count": 1,
   "id": "018f0401-3c37-4809-81f6-ac2293fd8200",
   "metadata": {
    "tags": []
   },
   "outputs": [
    {
     "name": "stdout",
     "output_type": "stream",
     "text": [
      "(4): \n",
      "(3): \n",
      "(2): \n",
      "(1): \n",
      "(0): 10\n",
      "\n",
      "\n",
      "(4): \n",
      "(3): \n",
      "(2): \n",
      "(1): 5\n",
      "(0): 10\n",
      "\n",
      "\n",
      "(4): \n",
      "(3): \n",
      "(2): \n",
      "(1): 0\n",
      "(0): 10\n",
      "\n",
      "\n",
      "(4): \n",
      "(3): \n",
      "(2): \n",
      "(1): 15\n",
      "(0): 10\n",
      "\n",
      "\n",
      "(4): \n",
      "(3): \n",
      "(2): 7\n",
      "(1): 15\n",
      "(0): 10\n",
      "\n",
      "\n"
     ]
    }
   ],
   "source": [
    "LIMIT = 5\n",
    "_stack = [''] * LIMIT\n",
    "_top = -1\n",
    "    \n",
    "def size():\n",
    "    return _top + 1\n",
    "\n",
    "def isEmpty():\n",
    "    return _top < 0\n",
    "\n",
    "def push(v):\n",
    "    global _top, LIMIT\n",
    "    if(size() == LIMIT):\n",
    "        print('overflow\\n')\n",
    "    else:\n",
    "        _top += 1\n",
    "        _stack[_top] = v\n",
    "\n",
    "def pop():\n",
    "    global _top\n",
    "    if(isEmpty()):\n",
    "        print('underflow\\n')\n",
    "    else:\n",
    "        _stack[_top] = 0\n",
    "        _top -= 1\n",
    "        \n",
    "def top():\n",
    "    global _top\n",
    "    if(isEmpty()):\n",
    "        print('underflow\\n')\n",
    "    else:\n",
    "        return _stack[_top]\n",
    "\n",
    "def show():\n",
    "    for i in reversed(range(LIMIT)):\n",
    "        print(f'({i}): {_stack[i]}')\n",
    "\n",
    "    print('\\n')\n",
    "\n",
    "push(10)\n",
    "show()\n",
    "\n",
    "push(5)\n",
    "show()\n",
    "\n",
    "pop()\n",
    "show()\n",
    "\n",
    "push(15)\n",
    "show()\n",
    "\n",
    "push(7)\n",
    "show()\n",
    "  "
   ]
  },
  {
   "cell_type": "code",
   "execution_count": 2,
   "id": "6bb2a466-91dc-4337-b70b-aa82d15aeed2",
   "metadata": {},
   "outputs": [
    {
     "name": "stdout",
     "output_type": "stream",
     "text": [
      "3 + {4 * 5 - [ 2 / 3 ] + ( 5 - 6 * 3 ]\n",
      "\n",
      "------------------------------------ ^\n",
      "Erro: encontrado \"]\" na posição 38 - esperado \"(\".\n"
     ]
    }
   ],
   "source": [
    "x = '3 + {4 * 5 - [ 2 / 3 ] + ( 5 - 6 * 3 ] / ( 2 - 4 ) * [ 12 / 3 ] }'\n",
    "\n",
    "i = 0\n",
    "for c in x:\n",
    "    print(c, end = \"\")\n",
    "    i += 1\n",
    "    if c in '{[()]}':\n",
    "        if c in '{[(':\n",
    "            push(c)\n",
    "        elif c in ')]}':\n",
    "            y = top()\n",
    "            pop()\n",
    "            if c == '}' and y != '{' or c == ']' and y != '[' or c == ')' and y != '(':\n",
    "                print('\\n')\n",
    "                print((i - 2) * '-', '^', end = '')\n",
    "                print(f'\\nErro: encontrado \\\"{c}\\\" na posição {i} - esperado \\\"{y}\\\".')\n",
    "                break\n",
    "            \n",
    "if isEmpty():\n",
    "    print('Sucesso')"
   ]
  },
  {
   "cell_type": "markdown",
   "id": "aabfe443-8e05-494a-9828-85631524826f",
   "metadata": {},
   "source": [
    "> End"
   ]
  }
 ],
 "metadata": {
  "kernelspec": {
   "display_name": "Python 3.9",
   "language": "python",
   "name": "python39"
  },
  "language_info": {
   "codemirror_mode": {
    "name": "ipython",
    "version": 3
   },
   "file_extension": ".py",
   "mimetype": "text/x-python",
   "name": "python",
   "nbconvert_exporter": "python",
   "pygments_lexer": "ipython3",
   "version": "3.9.14"
  }
 },
 "nbformat": 4,
 "nbformat_minor": 5
}
