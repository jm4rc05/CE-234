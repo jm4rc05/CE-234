{
 "cells": [
  {
   "cell_type": "code",
   "execution_count": 1,
   "id": "9353c34b-030f-417a-90f1-2c082285a1e0",
   "metadata": {},
   "outputs": [
    {
     "name": "stdout",
     "output_type": "stream",
     "text": [
      "parêntese desbalanceado na posição 21\n",
      "parêntese desbalanceado na posição 35\n",
      "parêntese desbalanceado na posição 45\n",
      "Expressão desbalanceada\n"
     ]
    }
   ],
   "source": [
    "x = \"3 + {4 * 5 - [ 2 / 3) + (5 - 6 * 3) / (2 - 4)] * [12 / 3]}\"\n",
    "\n",
    "c_braces = 0;\n",
    "c_brackets = 0;\n",
    "c_parentheses = 0;\n",
    "\n",
    "i = 0\n",
    "for c in x: # range(len(x)):\n",
    "    i += 1\n",
    "    if c == \"{\":\n",
    "        c_braces += 1\n",
    "    elif c == \"[\":\n",
    "        c_brackets += 1\n",
    "    elif c == \"(\":\n",
    "        c_parentheses += 1\n",
    "    elif c == \"}\":\n",
    "        c_braces -= 1\n",
    "        if c_braces < 0:\n",
    "            print(f\"chave desbalanceado na posição {i}\")\n",
    "    elif c == \"]\":\n",
    "        c_brackets -= 1\n",
    "        if c_brackets < 0:\n",
    "            print(f\"colchete desbalanceado na posição {i}\")\n",
    "    elif c == \")\":\n",
    "        c_parentheses -= 1\n",
    "        if c_parentheses < 0:\n",
    "            print(f\"parêntese desbalanceado na posição {i}\")\n",
    "\n",
    "if c_braces == 0 and c_brackets == 0 and c_parentheses == 0:\n",
    "    print(\"Expressão balanceada\")\n",
    "else:\n",
    "    print(\"Expressão desbalanceada\")"
   ]
  },
  {
   "cell_type": "code",
   "execution_count": null,
   "id": "4499fa63-6aed-482e-b236-e0ffb4d38172",
   "metadata": {},
   "outputs": [],
   "source": []
  }
 ],
 "metadata": {
  "kernelspec": {
   "display_name": "Python 3.9",
   "language": "python",
   "name": "python39"
  },
  "language_info": {
   "codemirror_mode": {
    "name": "ipython",
    "version": 3
   },
   "file_extension": ".py",
   "mimetype": "text/x-python",
   "name": "python",
   "nbconvert_exporter": "python",
   "pygments_lexer": "ipython3",
   "version": "3.9.14"
  }
 },
 "nbformat": 4,
 "nbformat_minor": 5
}
