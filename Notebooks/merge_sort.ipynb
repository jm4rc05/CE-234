{
 "cells": [
  {
   "cell_type": "markdown",
   "id": "2706ef1b-cee1-4de9-9a6a-62ceb206927e",
   "metadata": {},
   "source": [
    "### Merge Sort"
   ]
  },
  {
   "cell_type": "markdown",
   "id": "d73d918e-eee4-4d34-8dee-c97acaaa1cd4",
   "metadata": {},
   "source": [
    "O Merge Sort possui duas recursões, uma para cada metade, mais um merge:\n",
    "\n",
    "$T(n) = 2T\\left(\\frac{n}{2}\\right)+\\Theta(n)$\n",
    "\n",
    "Mas porque supondo $n = 2^k$ resulta em:\n",
    "\n",
    "$T(n) = 2\\left(2T\\left(\\frac{n}{2^k}\\right)+\\Theta\\left(\\frac{n}{2}\\right)\\right)+\\Theta(n)$?"
   ]
  },
  {
   "cell_type": "code",
   "execution_count": null,
   "id": "fb7dd22f-c8db-4add-92fd-31ff79c92b34",
   "metadata": {},
   "outputs": [],
   "source": []
  }
 ],
 "metadata": {
  "kernelspec": {
   "display_name": "Python 3 (ipykernel)",
   "language": "python",
   "name": "python3"
  },
  "language_info": {
   "codemirror_mode": {
    "name": "ipython",
    "version": 3
   },
   "file_extension": ".py",
   "mimetype": "text/x-python",
   "name": "python",
   "nbconvert_exporter": "python",
   "pygments_lexer": "ipython3",
   "version": "3.8.2"
  }
 },
 "nbformat": 4,
 "nbformat_minor": 5
}
