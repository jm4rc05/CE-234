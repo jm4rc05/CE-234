{
 "cells": [
  {
   "cell_type": "markdown",
   "id": "f667247b-7ba5-45fb-9c63-6138017e86bf",
   "metadata": {},
   "source": [
    "# Prova 2"
   ]
  },
  {
   "cell_type": "markdown",
   "id": "8bd190cd-08c9-447d-8005-c2736f147554",
   "metadata": {},
   "source": [
    "## CE-234 - Estruturas de Dados, Análise de Algoritmos e Complexidade Estrutural\n",
    "### José Marcos Gomes\n",
    "\n",
    "#### Início: 09:20\n",
    "#### Término: 10:20"
   ]
  },
  {
   "cell_type": "markdown",
   "id": "adfae00e-854c-485c-815f-4c120bea7eef",
   "metadata": {},
   "source": [
    "![Provinha 2](./CT234-Provinha2.png \"Provinha 2\")"
   ]
  },
  {
   "cell_type": "markdown",
   "id": "bbe7a18a-c9f2-4a98-b29e-fc701efaee89",
   "metadata": {},
   "source": [
    "## Questão 1\n",
    "\n",
    "Considere um vetor não ordenado com n valores inteiros.\n",
    "\n",
    "a) Sem ordenar esse vetor, descreva informalmente um algoritmo que encontre tanto o maior como o menor elemento dele.\n",
    "b) Considerando o pior caso, calcule o **número exato de comparações entre elementos do vetor** realizadas por esse algoritmo.\n",
    "c) Qual é a sua complexidade de tempo? Pode-se dizer que esse algoritmo é ótimo? Justifique.\n",
    "\n",
    "---\n",
    "### Respostas:\n",
    "\n",
    "a) Guardar o primeiro elemento do vetor. Percorrer o vetor a partir do segundo elemento até o final do vetor. Comparar o elemento guardado com o elemento corrente do vetor. Se o elemento corrente for **maior** (ou **menor** para obter o menor elemento do vetor), guardar o elemento corrente. Prosseguir com o próximo elemento até satisfazer a condição acima (i.e. até o final do vetor);\n",
    "\n",
    "b) De acordo com a descrição acima iremos executar $n - 1$ vezes **comparações**; e\n",
    "\n",
    "c) A complexidade de tempo é $O(n - 1)$ (ou $O(n)$ de modo geral). Não é possível determinar o maior ou menor elemento do vetor sem percorrê-lo completamente, portanto este é o melhor caso possível, portanto é $\\theta(n)$."
   ]
  },
  {
   "cell_type": "markdown",
   "id": "3b2b7c21-6763-44e3-8d71-ce4ccf1af1cf",
   "metadata": {},
   "source": [
    "## Questão 2\n",
    "\n",
    "Dado um número inteiro não negativo, a sua correspondente representação binária pode ser obtida através de um algoritmo convencional que calcula vários restos de divisões. Escreva o pseudocódigo desse algoritmo, utilizando as funcionalidades de uma pilha (`push`, `top`, `pop` e `isEmpty`) para armazenar os restos calculados.\n",
    "> **Importante**: _A representação binária deverá ser gerada através da impressão dos valores presentes no topo da pilha_.\n",
    "\n",
    "---\n",
    "### Resposta:\n",
    "\n",
    "```\n",
    "funcao converteBinario(inteiro):\n",
    "    \n",
    "    valor = inteiro\n",
    "    binario = []                  // cria um vetor vazio\n",
    "    while valor > 0:\n",
    "        binario.push(valor % 2)   // resto da divisão\n",
    "        valor = valor / 2         // valor inteiro da divisao\n",
    "        \n",
    "    while not binario.isEmpty():\n",
    "        print(binario.pop())\n",
    "```"
   ]
  }
 ],
 "metadata": {
  "kernelspec": {
   "display_name": "Python 3 (ipykernel)",
   "language": "python",
   "name": "python3"
  },
  "language_info": {
   "codemirror_mode": {
    "name": "ipython",
    "version": 3
   },
   "file_extension": ".py",
   "mimetype": "text/x-python",
   "name": "python",
   "nbconvert_exporter": "python",
   "pygments_lexer": "ipython3",
   "version": "3.8.2"
  }
 },
 "nbformat": 4,
 "nbformat_minor": 5
}
