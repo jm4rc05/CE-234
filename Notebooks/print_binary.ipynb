{
 "cells": [
  {
   "cell_type": "code",
   "execution_count": 8,
   "id": "5805a58c-0707-4c91-89bd-b894aa5f7253",
   "metadata": {},
   "outputs": [
    {
     "name": "stdout",
     "output_type": "stream",
     "text": [
      "[0, 1]\n",
      "1\n",
      "0\n"
     ]
    }
   ],
   "source": [
    "def int_to_binary(i):\n",
    "    s = []\n",
    "    while(i > 0):\n",
    "        d = i % 2\n",
    "        s.append(d)\n",
    "        i = i // 2\n",
    "\n",
    "    print(s)\n",
    "    return s\n",
    "\n",
    "def print_binary(s):\n",
    "    while(len(s) > 0):\n",
    "        d = s.pop()\n",
    "        print(d)\n",
    "    \n",
    "x = int_to_binary(2)\n",
    "\n",
    "print_binary(x)\n"
   ]
  },
  {
   "cell_type": "code",
   "execution_count": null,
   "id": "0285abed-05d9-4948-a8eb-eb00d310397c",
   "metadata": {},
   "outputs": [],
   "source": []
  }
 ],
 "metadata": {
  "kernelspec": {
   "display_name": "Python 3 (ipykernel)",
   "language": "python",
   "name": "python3"
  },
  "language_info": {
   "codemirror_mode": {
    "name": "ipython",
    "version": 3
   },
   "file_extension": ".py",
   "mimetype": "text/x-python",
   "name": "python",
   "nbconvert_exporter": "python",
   "pygments_lexer": "ipython3",
   "version": "3.8.2"
  }
 },
 "nbformat": 4,
 "nbformat_minor": 5
}
