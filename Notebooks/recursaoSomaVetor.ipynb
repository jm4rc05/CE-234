{
 "cells": [
  {
   "cell_type": "code",
   "execution_count": 5,
   "id": "0c771786-c585-4125-8e85-07ced60e344d",
   "metadata": {},
   "outputs": [
    {
     "data": {
      "text/plain": [
       "48"
      ]
     },
     "execution_count": 5,
     "metadata": {},
     "output_type": "execute_result"
    }
   ],
   "source": [
    "def soma(V):\n",
    "    n = len(V)\n",
    "    return V[0] if n == 1 else soma(V[0:n - 1]) + V[n - 1]\n",
    "\n",
    "soma([1, 2, 3, 6, 12, 24])"
   ]
  },
  {
   "cell_type": "code",
   "execution_count": null,
   "id": "74d5464c-6e6a-4e75-86e0-80813cf91c60",
   "metadata": {},
   "outputs": [],
   "source": []
  }
 ],
 "metadata": {
  "kernelspec": {
   "display_name": "Python 3 (ipykernel)",
   "language": "python",
   "name": "python3"
  },
  "language_info": {
   "codemirror_mode": {
    "name": "ipython",
    "version": 3
   },
   "file_extension": ".py",
   "mimetype": "text/x-python",
   "name": "python",
   "nbconvert_exporter": "python",
   "pygments_lexer": "ipython3",
   "version": "3.8.2"
  }
 },
 "nbformat": 4,
 "nbformat_minor": 5
}
