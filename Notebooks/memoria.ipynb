{
 "cells": [
  {
   "cell_type": "code",
   "execution_count": 1,
   "id": "4e88af72-d8b2-4a30-9812-a87e968b3d75",
   "metadata": {},
   "outputs": [],
   "source": [
    "#include <iostream>\n",
    "\n",
    "using namespace std;"
   ]
  },
  {
   "cell_type": "code",
   "execution_count": 2,
   "id": "8bfa35a6-5a5f-48c3-9fb9-cab6a5d6329c",
   "metadata": {},
   "outputs": [
    {
     "name": "stdout",
     "output_type": "stream",
     "text": [
      "i = 15\n",
      "p = 0x7ffee1100f4c\n",
      "&i = 0x7ffee1100f4c\n",
      "*p = 15\n",
      "&p = 0x7ffee1100f40\n"
     ]
    }
   ],
   "source": [
    "namespace m {\n",
    "    \n",
    "    int executa() {\n",
    "        \n",
    "        int i = 15;\n",
    "        int* p;\n",
    "\n",
    "        p = &i;\n",
    "\n",
    "        cout << \"i = \" << i << endl;\n",
    "        cout << \"p = \" << p << endl;\n",
    "        cout << \"&i = \" << &i << endl;\n",
    "        cout << \"*p = \" << *p << endl;\n",
    "        cout << \"&p = \" << &p << endl;\n",
    "        \n",
    "        return 0;\n",
    "        \n",
    "    }\n",
    "\n",
    "}\n",
    "\n",
    "int result = m::executa();"
   ]
  },
  {
   "cell_type": "code",
   "execution_count": null,
   "id": "6569decf-3c6c-44b6-af2f-38711365bc93",
   "metadata": {},
   "outputs": [],
   "source": []
  }
 ],
 "metadata": {
  "kernelspec": {
   "display_name": "C++14",
   "language": "C++14",
   "name": "xcpp14"
  },
  "language_info": {
   "codemirror_mode": "text/x-c++src",
   "file_extension": ".cpp",
   "mimetype": "text/x-c++src",
   "name": "c++",
   "version": "14"
  }
 },
 "nbformat": 4,
 "nbformat_minor": 5
}
