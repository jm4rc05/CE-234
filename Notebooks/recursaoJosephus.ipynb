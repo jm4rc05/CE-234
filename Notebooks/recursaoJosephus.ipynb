{
 "cells": [
  {
   "cell_type": "markdown",
   "id": "8b9f5828-c2fd-4925-adbb-9d2860ef10a8",
   "metadata": {},
   "source": [
    "# Prova por indução:\n",
    "\n",
    "$J(n) = \\mod\\left(\\frac{J(n - 1) + 1}{n}\\right) + 1$\n",
    "\n",
    "para o próximo $n$:\n",
    "\n",
    "$J(n + 1) = \\mod\\left(\\frac{J(n) + 1}{n + 1}\\right) + 1$\n"
   ]
  },
  {
   "cell_type": "code",
   "execution_count": 1,
   "id": "3d140226-0756-47f4-af62-e90e9e3b9c9a",
   "metadata": {},
   "outputs": [],
   "source": [
    "from IPython.display import display, Latex, Markdown"
   ]
  },
  {
   "cell_type": "code",
   "execution_count": 63,
   "id": "317e6418-1358-45a5-a20e-18cfffa220cd",
   "metadata": {},
   "outputs": [],
   "source": [
    "#-----------------------------------------------------------------------#\n",
    "#                                                                       #\n",
    "# Determina a posição para Josephus sobreviver de modo recursivo        #\n",
    "#                                                                       #\n",
    "# Solução menos eficiente que a achada na internet, mas esta aqui eu    #\n",
    "# consigo entender!                                                     #\n",
    "#                                                                       #\n",
    "# Primeiro foi uma tentativa de resolver usando recursividade           #\n",
    "# aplicando a idéia de que a solução era circular, ou seja, a posição   #\n",
    "# para sobreviver seria duas posições após a da solução anterior, porém #\n",
    "# a inspiração final veio do cálculo do índice para filas usando        #\n",
    "# vetores!                                                              #\n",
    "# Confesso que a parte de somar 1, calcular o módulo e depois somar 1   #\n",
    "# novamente saiu por tentativa e erro! Eu só sabia que precisava somar  #\n",
    "# 2 à solução anterior para evitar cair numa posição par onde todos     #\n",
    "# morrem!                                                               #\n",
    "# Então funciona assim, pega a solução anterior, avança uma posição,    #\n",
    "# que não é boa pois vai ser par, calcula o módulo para lidar com o     #\n",
    "# círculo, e pula para a próxima (que não vai ser par).                 #\n",
    "#                                                                       #\n",
    "# Por exemplo:                                                          #\n",
    "# para 2, anterior (1) = 1, + 1 = 2, módulo 2 = 0, + 1 = 1              #\n",
    "# para 3, anterior (2) = 1, + 1 = 2, módulo 3 = 2, + 1 = 3              #\n",
    "# para 4, anterior (3) = 3, + 1 = 4, módulo 4 = 0, + 1 = 1              #\n",
    "# ...                                                                   #\n",
    "# para 8, anterior (7) = 7, + 1 = 8, módulo 8 = 0, + 1 = 1              #\n",
    "# ...                                                                   #\n",
    "# para 20, anterior (19) = 7, + 1 = 8, módulo 20 = 8, + 1 = 9           #\n",
    "#                                                                       #\n",
    "#-----------------------------------------------------------------------#\n",
    "\n",
    "# n = participantes\n",
    "def JR(n):\n",
    "    if(n == 1):\n",
    "        return 1\n",
    "    return (J(n - 1) + 1) % n + 1\n",
    "\n",
    "# n = participantes\n",
    "# k = quantos participantes alterna (pula) a vez da faca\n",
    "def J(n, k = 2):\n",
    "        if n == 0:\n",
    "            return 0\n",
    "        else:\n",
    "            p = 0\n",
    "            for i in range(2, n + 1):\n",
    "                p = (p + k) % i\n",
    "            return p + 1"
   ]
  },
  {
   "cell_type": "code",
   "execution_count": 64,
   "id": "59c56313-e272-42eb-95fe-3213490e1926",
   "metadata": {},
   "outputs": [
    {
     "data": {
      "text/latex": [
       "$ J(2) = \\mod ( (J(n - 1) + 1) / 2 ) + 1 = 1 $"
      ],
      "text/plain": [
       "<IPython.core.display.Latex object>"
      ]
     },
     "metadata": {},
     "output_type": "display_data"
    },
    {
     "data": {
      "text/latex": [
       "$ J(2) = \\mod ( (J(n - 1) + 1) / 2 ) + 1 = 1 $"
      ],
      "text/plain": [
       "<IPython.core.display.Latex object>"
      ]
     },
     "metadata": {},
     "output_type": "display_data"
    },
    {
     "data": {
      "text/latex": [
       "$ J(3) = \\mod ( (J(n - 1) + 1) / 3 ) + 1 = 3 $"
      ],
      "text/plain": [
       "<IPython.core.display.Latex object>"
      ]
     },
     "metadata": {},
     "output_type": "display_data"
    },
    {
     "data": {
      "text/latex": [
       "$ J(3) = \\mod ( (J(n - 1) + 1) / 3 ) + 1 = 3 $"
      ],
      "text/plain": [
       "<IPython.core.display.Latex object>"
      ]
     },
     "metadata": {},
     "output_type": "display_data"
    },
    {
     "data": {
      "text/latex": [
       "$ J(4) = \\mod ( (J(n - 1) + 1) / 4 ) + 1 = 1 $"
      ],
      "text/plain": [
       "<IPython.core.display.Latex object>"
      ]
     },
     "metadata": {},
     "output_type": "display_data"
    },
    {
     "data": {
      "text/latex": [
       "$ J(4) = \\mod ( (J(n - 1) + 1) / 4 ) + 1 = 1 $"
      ],
      "text/plain": [
       "<IPython.core.display.Latex object>"
      ]
     },
     "metadata": {},
     "output_type": "display_data"
    },
    {
     "data": {
      "text/latex": [
       "$ J(5) = \\mod ( (J(n - 1) + 1) / 5 ) + 1 = 3 $"
      ],
      "text/plain": [
       "<IPython.core.display.Latex object>"
      ]
     },
     "metadata": {},
     "output_type": "display_data"
    },
    {
     "data": {
      "text/latex": [
       "$ J(5) = \\mod ( (J(n - 1) + 1) / 5 ) + 1 = 3 $"
      ],
      "text/plain": [
       "<IPython.core.display.Latex object>"
      ]
     },
     "metadata": {},
     "output_type": "display_data"
    },
    {
     "data": {
      "text/latex": [
       "$ J(6) = \\mod ( (J(n - 1) + 1) / 6 ) + 1 = 5 $"
      ],
      "text/plain": [
       "<IPython.core.display.Latex object>"
      ]
     },
     "metadata": {},
     "output_type": "display_data"
    },
    {
     "data": {
      "text/latex": [
       "$ J(6) = \\mod ( (J(n - 1) + 1) / 6 ) + 1 = 5 $"
      ],
      "text/plain": [
       "<IPython.core.display.Latex object>"
      ]
     },
     "metadata": {},
     "output_type": "display_data"
    },
    {
     "data": {
      "text/latex": [
       "$ J(7) = \\mod ( (J(n - 1) + 1) / 7 ) + 1 = 7 $"
      ],
      "text/plain": [
       "<IPython.core.display.Latex object>"
      ]
     },
     "metadata": {},
     "output_type": "display_data"
    },
    {
     "data": {
      "text/latex": [
       "$ J(7) = \\mod ( (J(n - 1) + 1) / 7 ) + 1 = 7 $"
      ],
      "text/plain": [
       "<IPython.core.display.Latex object>"
      ]
     },
     "metadata": {},
     "output_type": "display_data"
    },
    {
     "data": {
      "text/latex": [
       "$ J(8) = \\mod ( (J(n - 1) + 1) / 8 ) + 1 = 1 $"
      ],
      "text/plain": [
       "<IPython.core.display.Latex object>"
      ]
     },
     "metadata": {},
     "output_type": "display_data"
    },
    {
     "data": {
      "text/latex": [
       "$ J(8) = \\mod ( (J(n - 1) + 1) / 8 ) + 1 = 1 $"
      ],
      "text/plain": [
       "<IPython.core.display.Latex object>"
      ]
     },
     "metadata": {},
     "output_type": "display_data"
    },
    {
     "data": {
      "text/latex": [
       "$ J(9) = \\mod ( (J(n - 1) + 1) / 9 ) + 1 = 3 $"
      ],
      "text/plain": [
       "<IPython.core.display.Latex object>"
      ]
     },
     "metadata": {},
     "output_type": "display_data"
    },
    {
     "data": {
      "text/latex": [
       "$ J(9) = \\mod ( (J(n - 1) + 1) / 9 ) + 1 = 3 $"
      ],
      "text/plain": [
       "<IPython.core.display.Latex object>"
      ]
     },
     "metadata": {},
     "output_type": "display_data"
    },
    {
     "data": {
      "text/latex": [
       "$ J(10) = \\mod ( (J(n - 1) + 1) / 10 ) + 1 = 5 $"
      ],
      "text/plain": [
       "<IPython.core.display.Latex object>"
      ]
     },
     "metadata": {},
     "output_type": "display_data"
    },
    {
     "data": {
      "text/latex": [
       "$ J(10) = \\mod ( (J(n - 1) + 1) / 10 ) + 1 = 5 $"
      ],
      "text/plain": [
       "<IPython.core.display.Latex object>"
      ]
     },
     "metadata": {},
     "output_type": "display_data"
    },
    {
     "data": {
      "text/latex": [
       "$ J(11) = \\mod ( (J(n - 1) + 1) / 11 ) + 1 = 7 $"
      ],
      "text/plain": [
       "<IPython.core.display.Latex object>"
      ]
     },
     "metadata": {},
     "output_type": "display_data"
    },
    {
     "data": {
      "text/latex": [
       "$ J(11) = \\mod ( (J(n - 1) + 1) / 11 ) + 1 = 7 $"
      ],
      "text/plain": [
       "<IPython.core.display.Latex object>"
      ]
     },
     "metadata": {},
     "output_type": "display_data"
    },
    {
     "data": {
      "text/latex": [
       "$ J(12) = \\mod ( (J(n - 1) + 1) / 12 ) + 1 = 9 $"
      ],
      "text/plain": [
       "<IPython.core.display.Latex object>"
      ]
     },
     "metadata": {},
     "output_type": "display_data"
    },
    {
     "data": {
      "text/latex": [
       "$ J(12) = \\mod ( (J(n - 1) + 1) / 12 ) + 1 = 9 $"
      ],
      "text/plain": [
       "<IPython.core.display.Latex object>"
      ]
     },
     "metadata": {},
     "output_type": "display_data"
    },
    {
     "data": {
      "text/latex": [
       "$ J(13) = \\mod ( (J(n - 1) + 1) / 13 ) + 1 = 11 $"
      ],
      "text/plain": [
       "<IPython.core.display.Latex object>"
      ]
     },
     "metadata": {},
     "output_type": "display_data"
    },
    {
     "data": {
      "text/latex": [
       "$ J(13) = \\mod ( (J(n - 1) + 1) / 13 ) + 1 = 11 $"
      ],
      "text/plain": [
       "<IPython.core.display.Latex object>"
      ]
     },
     "metadata": {},
     "output_type": "display_data"
    },
    {
     "data": {
      "text/latex": [
       "$ J(14) = \\mod ( (J(n - 1) + 1) / 14 ) + 1 = 13 $"
      ],
      "text/plain": [
       "<IPython.core.display.Latex object>"
      ]
     },
     "metadata": {},
     "output_type": "display_data"
    },
    {
     "data": {
      "text/latex": [
       "$ J(14) = \\mod ( (J(n - 1) + 1) / 14 ) + 1 = 13 $"
      ],
      "text/plain": [
       "<IPython.core.display.Latex object>"
      ]
     },
     "metadata": {},
     "output_type": "display_data"
    },
    {
     "data": {
      "text/latex": [
       "$ J(15) = \\mod ( (J(n - 1) + 1) / 15 ) + 1 = 15 $"
      ],
      "text/plain": [
       "<IPython.core.display.Latex object>"
      ]
     },
     "metadata": {},
     "output_type": "display_data"
    },
    {
     "data": {
      "text/latex": [
       "$ J(15) = \\mod ( (J(n - 1) + 1) / 15 ) + 1 = 15 $"
      ],
      "text/plain": [
       "<IPython.core.display.Latex object>"
      ]
     },
     "metadata": {},
     "output_type": "display_data"
    },
    {
     "data": {
      "text/latex": [
       "$ J(16) = \\mod ( (J(n - 1) + 1) / 16 ) + 1 = 1 $"
      ],
      "text/plain": [
       "<IPython.core.display.Latex object>"
      ]
     },
     "metadata": {},
     "output_type": "display_data"
    },
    {
     "data": {
      "text/latex": [
       "$ J(16) = \\mod ( (J(n - 1) + 1) / 16 ) + 1 = 1 $"
      ],
      "text/plain": [
       "<IPython.core.display.Latex object>"
      ]
     },
     "metadata": {},
     "output_type": "display_data"
    },
    {
     "data": {
      "text/latex": [
       "$ J(17) = \\mod ( (J(n - 1) + 1) / 17 ) + 1 = 3 $"
      ],
      "text/plain": [
       "<IPython.core.display.Latex object>"
      ]
     },
     "metadata": {},
     "output_type": "display_data"
    },
    {
     "data": {
      "text/latex": [
       "$ J(17) = \\mod ( (J(n - 1) + 1) / 17 ) + 1 = 3 $"
      ],
      "text/plain": [
       "<IPython.core.display.Latex object>"
      ]
     },
     "metadata": {},
     "output_type": "display_data"
    },
    {
     "data": {
      "text/latex": [
       "$ J(18) = \\mod ( (J(n - 1) + 1) / 18 ) + 1 = 5 $"
      ],
      "text/plain": [
       "<IPython.core.display.Latex object>"
      ]
     },
     "metadata": {},
     "output_type": "display_data"
    },
    {
     "data": {
      "text/latex": [
       "$ J(18) = \\mod ( (J(n - 1) + 1) / 18 ) + 1 = 5 $"
      ],
      "text/plain": [
       "<IPython.core.display.Latex object>"
      ]
     },
     "metadata": {},
     "output_type": "display_data"
    },
    {
     "data": {
      "text/latex": [
       "$ J(19) = \\mod ( (J(n - 1) + 1) / 19 ) + 1 = 7 $"
      ],
      "text/plain": [
       "<IPython.core.display.Latex object>"
      ]
     },
     "metadata": {},
     "output_type": "display_data"
    },
    {
     "data": {
      "text/latex": [
       "$ J(19) = \\mod ( (J(n - 1) + 1) / 19 ) + 1 = 7 $"
      ],
      "text/plain": [
       "<IPython.core.display.Latex object>"
      ]
     },
     "metadata": {},
     "output_type": "display_data"
    },
    {
     "data": {
      "text/latex": [
       "$ J(20) = \\mod ( (J(n - 1) + 1) / 20 ) + 1 = 9 $"
      ],
      "text/plain": [
       "<IPython.core.display.Latex object>"
      ]
     },
     "metadata": {},
     "output_type": "display_data"
    },
    {
     "data": {
      "text/latex": [
       "$ J(20) = \\mod ( (J(n - 1) + 1) / 20 ) + 1 = 9 $"
      ],
      "text/plain": [
       "<IPython.core.display.Latex object>"
      ]
     },
     "metadata": {},
     "output_type": "display_data"
    }
   ],
   "source": [
    "\n",
    "for n in range(2, 21):\n",
    "    p = JR(n)\n",
    "    p_anterior = JR(n - 1)\n",
    "    display(Latex(f\"$ J({n}) = \\mod ( (J(n - 1) + 1) / {n} ) + 1 = {  (p_anterior + 1) % n + 1} $\"))\n",
    "    p = J(n)\n",
    "    p_anterior = J(n - 1)\n",
    "    display(Latex(f\"$ J({n}) = \\mod ( (J(n - 1) + 1) / {n} ) + 1 = {  (p_anterior + 1) % n + 1} $\"))\n"
   ]
  },
  {
   "cell_type": "markdown",
   "id": "9386a83f-dd5d-4923-a41c-294f6750f5d9",
   "metadata": {},
   "source": [
    "> End"
   ]
  }
 ],
 "metadata": {
  "kernelspec": {
   "display_name": "Python 3 (ipykernel)",
   "language": "python",
   "name": "python3"
  },
  "language_info": {
   "codemirror_mode": {
    "name": "ipython",
    "version": 3
   },
   "file_extension": ".py",
   "mimetype": "text/x-python",
   "name": "python",
   "nbconvert_exporter": "python",
   "pygments_lexer": "ipython3",
   "version": "3.8.2"
  }
 },
 "nbformat": 4,
 "nbformat_minor": 5
}
