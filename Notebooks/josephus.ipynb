{
 "cells": [
  {
   "cell_type": "code",
   "execution_count": 1,
   "id": "97e0f07f-c719-4d81-9bd9-3c981f8bb09d",
   "metadata": {},
   "outputs": [
    {
     "name": "stdout",
     "output_type": "stream",
     "text": [
      "A posição de Josephus é 1 para 1 participante\n",
      "A posição de Josephus é 1 para 2 participantes\n",
      "A posição de Josephus é 3 para 3 participantes\n",
      "A posição de Josephus é 1 para 4 participantes\n",
      "A posição de Josephus é 3 para 5 participantes\n",
      "A posição de Josephus é 5 para 6 participantes\n",
      "A posição de Josephus é 7 para 7 participantes\n",
      "A posição de Josephus é 1 para 8 participantes\n",
      "A posição de Josephus é 3 para 9 participantes\n",
      "A posição de Josephus é 5 para 10 participantes\n",
      "A posição de Josephus é 7 para 11 participantes\n",
      "A posição de Josephus é 9 para 12 participantes\n",
      "A posição de Josephus é 11 para 13 participantes\n",
      "A posição de Josephus é 13 para 14 participantes\n",
      "A posição de Josephus é 15 para 15 participantes\n",
      "A posição de Josephus é 1 para 16 participantes\n",
      "A posição de Josephus é 3 para 17 participantes\n",
      "A posição de Josephus é 5 para 18 participantes\n",
      "A posição de Josephus é 7 para 19 participantes\n",
      "A posição de Josephus é 9 para 20 participantes\n"
     ]
    }
   ],
   "source": [
    "# \n",
    "# Solução copiada da internet e que não entendi nada\n",
    "# Determinar a posição para não ser morto\n",
    "# \n",
    "for n in range(1, 21):\n",
    "    p = temp = n\n",
    "    \n",
    "    # Para 11 o valor binário é \"1011\". \n",
    "    # O \"1\" mais à esquerda é o 4o.\n",
    "    bit_mais_esquerda = 0\n",
    "    while temp != 0:\n",
    "        bit_mais_esquerda += 1\n",
    "        temp = temp >> 1\n",
    "\n",
    "    # Armazenar XOR de 'n'\n",
    "    # Como precisamos \"1000\" (para 11) iremos \n",
    "    # fazer 1 << 4 - 1 para obter \"1000\"\n",
    "    desloca_esquerda = 1 << (bit_mais_esquerda - 1)\n",
    "\n",
    "    # Mudamos o bit mais significativo para \"0\"\n",
    "    # 1011 ^ 1000 = 0011 (3)\n",
    "    p = p ^ desloca_esquerda\n",
    "\n",
    "    # Shift para esquerda para adicionar um \"0\"\n",
    "    # à direita 0011 = 0110 (6)\n",
    "    p = p << 1\n",
    "\n",
    "    # Ligando o \"0\" do final\n",
    "    # 0110 | 1 = 0111 (7)\n",
    "    p = p | 1\n",
    "\n",
    "    print(f'A posição de Josephus é {p} para {n} '\n",
    "          f'participante{\"s\" if n > 1 else \"\"}')"
   ]
  },
  {
   "cell_type": "markdown",
   "id": "a9c129e2-c499-4d22-8b8d-57ffc93aa570",
   "metadata": {},
   "source": [
    "> End"
   ]
  }
 ],
 "metadata": {
  "kernelspec": {
   "display_name": "Python 3 (ipykernel)",
   "language": "python",
   "name": "python3"
  },
  "language_info": {
   "codemirror_mode": {
    "name": "ipython",
    "version": 3
   },
   "file_extension": ".py",
   "mimetype": "text/x-python",
   "name": "python",
   "nbconvert_exporter": "python",
   "pygments_lexer": "ipython3",
   "version": "3.10.6"
  }
 },
 "nbformat": 4,
 "nbformat_minor": 5
}
