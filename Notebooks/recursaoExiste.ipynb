{
 "cells": [
  {
   "cell_type": "code",
   "execution_count": 3,
   "id": "e1422c4d-8326-49d6-96fc-5f80ba5a38cb",
   "metadata": {},
   "outputs": [
    {
     "data": {
      "text/plain": [
       "True"
      ]
     },
     "execution_count": 3,
     "metadata": {},
     "output_type": "execute_result"
    }
   ],
   "source": [
    "A = [4, 2, 1, 5, 6, 9]\n",
    "\n",
    "def existe(n, v):\n",
    "    if n == 0:\n",
    "        return True if A[n] == v else False\n",
    "    else:\n",
    "        f = existe(n - 1, v)\n",
    "        return f or v == A[n - 1]\n",
    "\n",
    "existe(len(A), 1)"
   ]
  },
  {
   "cell_type": "markdown",
   "id": "2406bb68-f517-4c75-b8b2-ca7529018b8c",
   "metadata": {},
   "source": [
    "> End"
   ]
  }
 ],
 "metadata": {
  "kernelspec": {
   "display_name": "Python 3 (ipykernel)",
   "language": "python",
   "name": "python3"
  },
  "language_info": {
   "codemirror_mode": {
    "name": "ipython",
    "version": 3
   },
   "file_extension": ".py",
   "mimetype": "text/x-python",
   "name": "python",
   "nbconvert_exporter": "python",
   "pygments_lexer": "ipython3",
   "version": "3.8.2"
  }
 },
 "nbformat": 4,
 "nbformat_minor": 5
}
