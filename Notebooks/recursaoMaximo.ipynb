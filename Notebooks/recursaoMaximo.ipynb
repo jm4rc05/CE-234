{
 "cells": [
  {
   "cell_type": "code",
   "execution_count": 13,
   "id": "6f25c0b4-cb6e-4a2b-aecb-7912d4adee5f",
   "metadata": {},
   "outputs": [
    {
     "data": {
      "text/plain": [
       "26"
      ]
     },
     "execution_count": 13,
     "metadata": {},
     "output_type": "execute_result"
    }
   ],
   "source": [
    "A = [8, 12, 26, 24, 15]\n",
    "\n",
    "def maximo(n):\n",
    "    if n == 0:\n",
    "        return A[0]\n",
    "    m = maximo(n - 1)\n",
    "    return m if m > A[n] else A[n]\n",
    "\n",
    "maximo(len(A) - 1)"
   ]
  },
  {
   "cell_type": "markdown",
   "id": "0d2c03d4-1b9b-49bc-8727-e1c24a8ee8b6",
   "metadata": {},
   "source": [
    "> End"
   ]
  }
 ],
 "metadata": {
  "kernelspec": {
   "display_name": "Python 3 (ipykernel)",
   "language": "python",
   "name": "python3"
  },
  "language_info": {
   "codemirror_mode": {
    "name": "ipython",
    "version": 3
   },
   "file_extension": ".py",
   "mimetype": "text/x-python",
   "name": "python",
   "nbconvert_exporter": "python",
   "pygments_lexer": "ipython3",
   "version": "3.8.2"
  }
 },
 "nbformat": 4,
 "nbformat_minor": 5
}
