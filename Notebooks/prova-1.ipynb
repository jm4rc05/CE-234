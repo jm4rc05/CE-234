{
 "cells": [
  {
   "cell_type": "markdown",
   "id": "f667247b-7ba5-45fb-9c63-6138017e86bf",
   "metadata": {},
   "source": [
    "# Prova 1"
   ]
  },
  {
   "cell_type": "markdown",
   "id": "8bd190cd-08c9-447d-8005-c2736f147554",
   "metadata": {},
   "source": [
    "## CE-234 - Estruturas de Dados, Análise de Algoritmos e Complexidade Estrutural\n",
    "### José Marcos Gomes\n",
    "\n",
    "#### Início: 14:00\n",
    "#### Término: 14:48"
   ]
  },
  {
   "cell_type": "markdown",
   "id": "bbe7a18a-c9f2-4a98-b29e-fc701efaee89",
   "metadata": {},
   "source": [
    "## Questão 1\n",
    "\n",
    "**Escreva o pseudocódigo de uma função recursiva que recebe apenas um número inteiro x como parâmetro e retorna a soma dos seus dígitos.**\n",
    "\n",
    "| Parâmetro | Resultado |\n",
    "| -: | -: |\n",
    "| 46607 | 23 |\n",
    "| -8703 | 18 |\n",
    "\n",
    "---\n",
    "### Resposta:\n",
    "\n",
    "#### Função Recursiva\n",
    "```\n",
    "funcao somaDigitosRecursiva(numero):\n",
    "    \n",
    "    valor = absoluto(numer)\n",
    "    if valor == 0:\n",
    "        return 0\n",
    "    else:\n",
    "        t1 = int(valor % 10)\n",
    "        t2 = somaDigitosRecursiva(int(valor / 10))\n",
    "        t3 = t1 + t2\n",
    "        return t3\n",
    "```"
   ]
  },
  {
   "cell_type": "code",
   "execution_count": 1,
   "id": "a3f170cb-41c1-4d91-84fb-056b64190649",
   "metadata": {
    "tags": []
   },
   "outputs": [
    {
     "name": "stdout",
     "output_type": "stream",
     "text": [
      "23\n",
      "18\n"
     ]
    }
   ],
   "source": [
    "def somaDigitosRecursiva(numero):\n",
    "    \n",
    "    valor = abs(numero)\n",
    "    if valor == 0:\n",
    "        return 0\n",
    "    else:\n",
    "        t1 = int(valor % 10)\n",
    "        t2 = somaDigitosRecursiva(int(valor / 10))\n",
    "        t3 = t1 + t2\n",
    "        return t3\n",
    "\n",
    "\n",
    "teste = 46607\n",
    "print(somaDigitosRecursiva(teste))\n",
    "\n",
    "teste = -8703\n",
    "print(somaDigitosRecursiva(teste))"
   ]
  },
  {
   "cell_type": "markdown",
   "id": "3b2b7c21-6763-44e3-8d71-ce4ccf1af1cf",
   "metadata": {},
   "source": [
    "## Questão 2\n",
    "\n",
    "**Calcule, com justificativas, as complexidades de tempo e de espaço do algoritmo acima, em função da quantidade n de dígitos do parâmetro.**\n",
    "\n",
    "### Resposta:\n",
    "\n",
    "```\n",
    "funcao somaDigitosRecursiva(numero):\n",
    "    \n",
    "1    valor = absoluto(numero)\n",
    "2    if valor == 0:\n",
    "3        return 0\n",
    "4    else:\n",
    "5        t1 = int(valor % 10)\n",
    "6        t2 = somaDigitosRecursiva(int(valor / 10))\n",
    "7        t3 = t1 + t2\n",
    "8        return t3\n",
    "\n",
    "```\n",
    "\n",
    "Operações realizadas, linha a linha:\n",
    "\n",
    "| # | Exec. | Espaço | Descrição |\n",
    "| -: | -: | -: | - |\n",
    "| 1 | 2 | 1 | _1 chamada de função (para tratar valores negativos) e 1 atribuição_ |\n",
    "| 2 | 1 | n/a | _1 teste_ |\n",
    "| 4 | 1 | n/a | _1 teste_ |\n",
    "| 5 | 3 X digitos | 1 x digitos | _1 operação de divisão (módulo) e 1 chamada de função_ e 1 atribuição **para cada dígito do valor informado** |\n",
    "| 6 | 3 X digitos | 1 x digitos | _1 operação de divisão e 1 chamada recursiva **para cada dígito do valor informado** e 1 atribuição_ |\n",
    "| 7 | 2 | 1 | _1 operação de soma e 1 atribuição_ |\n",
    "| **Total** | **6 + 6 X digitos** | **2 + 2 X digitos** |\n",
    "\n",
    "\n",
    "A função `somaDigitosRecursiva` apresenta portanto uma complexidade de tempo:\n",
    "\n",
    "$$\n",
    "O(6 + 6n),\n",
    "$$\n",
    "\n",
    "ou reduzindo para valor mais geral de complexidade de tempo:\n",
    "\n",
    "$$\n",
    "O(n).\n",
    "$$\n",
    "\n",
    "Já a complexidade de espaço pode ser apresentada como:\n",
    "\n",
    "$$\n",
    "O(2 + 2n),\n",
    "$$\n",
    "\n",
    "ou também reduzindo a complexidade de espaço para o valor mais geral:\n",
    "\n",
    "$$\n",
    "O(n).\n",
    "$$"
   ]
  },
  {
   "cell_type": "markdown",
   "id": "e6192849-07d2-4677-b832-558fa64770f1",
   "metadata": {},
   "source": [
    "> Fim"
   ]
  }
 ],
 "metadata": {
  "kernelspec": {
   "display_name": "Python 3 (ipykernel)",
   "language": "python",
   "name": "python3"
  },
  "language_info": {
   "codemirror_mode": {
    "name": "ipython",
    "version": 3
   },
   "file_extension": ".py",
   "mimetype": "text/x-python",
   "name": "python",
   "nbconvert_exporter": "python",
   "pygments_lexer": "ipython3",
   "version": "3.8.2"
  }
 },
 "nbformat": 4,
 "nbformat_minor": 5
}
