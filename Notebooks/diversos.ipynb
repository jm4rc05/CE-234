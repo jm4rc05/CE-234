{
 "cells": [
  {
   "cell_type": "code",
   "execution_count": 19,
   "id": "d9caa913-bcfe-4de2-b5d3-f232290b48d3",
   "metadata": {},
   "outputs": [
    {
     "name": "stdout",
     "output_type": "stream",
     "text": [
      "Base zero (p(i): -1 -> \"root\")\n",
      "e(0): 1\n",
      "d(0): 2\n",
      "p(0): -1\n",
      "\n",
      "e(1): 3\n",
      "d(1): 4\n",
      "p(1): 0\n",
      "\n",
      "e(2): 5\n",
      "d(2): 6\n",
      "p(2): 0\n",
      "\n",
      "e(3): 7\n",
      "d(3): 8\n",
      "p(3): 1\n",
      "\n",
      "e(4): 9\n",
      "d(4): 10\n",
      "p(4): 1\n",
      "\n",
      "e(5): 11\n",
      "d(5): 12\n",
      "p(5): 2\n",
      "\n",
      "e(6): 13\n",
      "d(6): 14\n",
      "p(6): 2\n",
      "\n"
     ]
    }
   ],
   "source": [
    "print('Base zero (p(i): -1 -> \"root\")')\n",
    "for i in range(7):\n",
    "    print(f'e({i}): {2 * i + 1}')\n",
    "    print(f'd({i}): {2 * i + 2}')\n",
    "    print(f'p({i}): {(i - 1) // 2}\\n')"
   ]
  },
  {
   "cell_type": "code",
   "execution_count": 12,
   "id": "d91891ba-ca51-46dd-aeec-6568f8bfd532",
   "metadata": {},
   "outputs": [
    {
     "name": "stdout",
     "output_type": "stream",
     "text": [
      "e(1): 2\n",
      "d(1): 3\n",
      "p(1): 0\n",
      "\n",
      "e(2): 4\n",
      "d(2): 5\n",
      "p(2): 1\n",
      "\n",
      "e(3): 6\n",
      "d(3): 7\n",
      "p(3): 1\n",
      "\n",
      "e(4): 8\n",
      "d(4): 9\n",
      "p(4): 2\n",
      "\n",
      "e(5): 10\n",
      "d(5): 11\n",
      "p(5): 2\n",
      "\n",
      "e(6): 12\n",
      "d(6): 13\n",
      "p(6): 3\n",
      "\n",
      "e(7): 14\n",
      "d(7): 15\n",
      "p(7): 3\n",
      "\n"
     ]
    }
   ],
   "source": [
    "print('Base um (p(i): 0 -> \"root\")')\n",
    "for i in range(1, 8):\n",
    "    print(f'e({i}): {2 * i}')\n",
    "    print(f'd({i}): {2 * i + 1}')\n",
    "    print(f'p({i}): {(i) // 2}\\n')"
   ]
  },
  {
   "cell_type": "code",
   "execution_count": null,
   "id": "442fc285-a8f8-4ad2-b798-6c9531813727",
   "metadata": {},
   "outputs": [],
   "source": []
  }
 ],
 "metadata": {
  "kernelspec": {
   "display_name": "Python 3.9",
   "language": "python",
   "name": "python39"
  },
  "language_info": {
   "codemirror_mode": {
    "name": "ipython",
    "version": 3
   },
   "file_extension": ".py",
   "mimetype": "text/x-python",
   "name": "python",
   "nbconvert_exporter": "python",
   "pygments_lexer": "ipython3",
   "version": "3.9.14"
  }
 },
 "nbformat": 4,
 "nbformat_minor": 5
}
